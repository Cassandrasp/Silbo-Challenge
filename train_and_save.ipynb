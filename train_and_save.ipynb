{
 "cells": [
  {
   "cell_type": "code",
   "execution_count": 1,
   "metadata": {},
   "outputs": [
    {
     "data": {
      "text/plain": [
       "'\\nHuggingface BERT Model: dccuchile/bert-base-spanish-wwm-uncased\\nhttps://huggingface.co/dccuchile/bert-base-spanish-wwm-uncased\\n'"
      ]
     },
     "execution_count": 1,
     "metadata": {},
     "output_type": "execute_result"
    }
   ],
   "source": [
    "'''\n",
    "Huggingface BERT Model: dccuchile/bert-base-spanish-wwm-uncased\n",
    "https://huggingface.co/dccuchile/bert-base-spanish-wwm-uncased\n",
    "\n",
    "Necessary installations: Python, Pandas, Numpy, Sklearn, PyTorch, transformers, TrainingArguments, tensorflow, spacy, os, \n",
    "python -m spacy download es_core_news_sm\n",
    "'''"
   ]
  },
  {
   "cell_type": "code",
   "execution_count": 58,
   "metadata": {},
   "outputs": [],
   "source": [
    "import pandas as pd\n",
    "import numpy as np\n",
    "import sklearn \n",
    "from transformers import TrainingArguments\n",
    "import os"
   ]
  },
  {
   "cell_type": "code",
   "execution_count": 59,
   "metadata": {},
   "outputs": [],
   "source": [
    "from transformers import set_seed\n",
    "set_seed(42)"
   ]
  },
  {
   "cell_type": "code",
   "execution_count": 60,
   "metadata": {},
   "outputs": [
    {
     "name": "stdout",
     "output_type": "stream",
     "text": [
      "                                                input  intent\n",
      "0                      Quisiera comprar una camiseta.       1\n",
      "1                     Me gustaría pedir una camiseta.       1\n",
      "2                        Necesito una camiseta nueva.       1\n",
      "3                     Quiero una camiseta de algodón.       1\n",
      "4        Estoy buscando una camiseta en talla grande.       1\n",
      "5           Deseo comprar una camiseta con estampado.       1\n",
      "6            ¿Puedo pedir una camiseta en color azul?       1\n",
      "7            Necesitaría una camiseta de manga corta.       1\n",
      "8         Estoy interesado en una camiseta deportiva.       1\n",
      "9            Quiero comprar una camiseta para correr.       1\n",
      "10           Me gustaría adquirir una camiseta negra.       1\n",
      "11                Quisiera una camiseta sin etiqueta.       1\n",
      "12              Necesito una camiseta para un regalo.       1\n",
      "13         Deseo pedir una camiseta en talla mediana.       1\n",
      "14              ¿Podría tener una camiseta en oferta?       1\n",
      "15       Estoy buscando una camiseta con cuello en V.       1\n",
      "16                 Quiero una camiseta personalizada.       1\n",
      "17            Me gustaría una camiseta blanca básica.       1\n",
      "18      Quisiera ordenar una camiseta para el verano.       1\n",
      "19      Necesito una camiseta resistente al desgaste.       1\n",
      "20         ¿De qué material está hecho esta camiseta?       2\n",
      "21               ¿Cuál es el precio de esta camiseta?       2\n",
      "22            ¿Tienen esta camiseta en otros colores?       2\n",
      "23   ¿Esta camiseta está disponible en talla pequeña?       2\n",
      "24  ¿Pueden decirme más sobre el diseño de esta ca...       2\n"
     ]
    }
   ],
   "source": [
    "df = pd.read_csv('data/icm_dataset.csv')\n",
    "print(df.head(25))"
   ]
  },
  {
   "cell_type": "code",
   "execution_count": 61,
   "metadata": {},
   "outputs": [
    {
     "name": "stdout",
     "output_type": "stream",
     "text": [
      "[('¿', 'PUNCT'), ('Cómo', 'PRON'), ('puedo', 'AUX'), ('cambiar', 'VERB'), ('mi', 'DET'), ('contraseña', 'NOUN'), ('?', 'PUNCT')]\n"
     ]
    }
   ],
   "source": [
    "# Parts of Speech (POS)\n",
    "import spacy\n",
    "\n",
    "# Carga modelo de Spanish NLP \n",
    "nlp = spacy.load(\"es_core_news_sm\")\n",
    "\n",
    "def get_pos_tags(text):\n",
    "    # Process the text with spaCy\n",
    "    doc = nlp(text)\n",
    "    pos_tags = [(token.text, token.pos_) for token in doc]  # Extract each word and its POS tag \n",
    "    return pos_tags\n",
    "\n",
    "# ejemplo\n",
    "sentence = \"¿Cómo puedo cambiar mi contraseña?\"\n",
    "pos_tags = get_pos_tags(sentence)\n",
    "print(pos_tags)\n"
   ]
  },
  {
   "cell_type": "code",
   "execution_count": 62,
   "metadata": {},
   "outputs": [],
   "source": [
    "# Apply POS tagging to a column of df (no sé si mejora el rendimiento del modelo todavia, podemos studiarlo...)\n",
    "df['pos_tags'] = df['input'].apply(get_pos_tags)"
   ]
  },
  {
   "cell_type": "code",
   "execution_count": 63,
   "metadata": {},
   "outputs": [
    {
     "data": {
      "text/html": [
       "<div>\n",
       "<style scoped>\n",
       "    .dataframe tbody tr th:only-of-type {\n",
       "        vertical-align: middle;\n",
       "    }\n",
       "\n",
       "    .dataframe tbody tr th {\n",
       "        vertical-align: top;\n",
       "    }\n",
       "\n",
       "    .dataframe thead th {\n",
       "        text-align: right;\n",
       "    }\n",
       "</style>\n",
       "<table border=\"1\" class=\"dataframe\">\n",
       "  <thead>\n",
       "    <tr style=\"text-align: right;\">\n",
       "      <th></th>\n",
       "      <th>input</th>\n",
       "      <th>intent</th>\n",
       "      <th>pos_tags</th>\n",
       "    </tr>\n",
       "  </thead>\n",
       "  <tbody>\n",
       "    <tr>\n",
       "      <th>0</th>\n",
       "      <td>Quisiera comprar una camiseta.</td>\n",
       "      <td>1</td>\n",
       "      <td>[(Quisiera, VERB), (comprar, VERB), (una, DET)...</td>\n",
       "    </tr>\n",
       "    <tr>\n",
       "      <th>1</th>\n",
       "      <td>Me gustaría pedir una camiseta.</td>\n",
       "      <td>1</td>\n",
       "      <td>[(Me, PRON), (gustaría, VERB), (pedir, VERB), ...</td>\n",
       "    </tr>\n",
       "    <tr>\n",
       "      <th>2</th>\n",
       "      <td>Necesito una camiseta nueva.</td>\n",
       "      <td>1</td>\n",
       "      <td>[(Necesito, VERB), (una, DET), (camiseta, NOUN...</td>\n",
       "    </tr>\n",
       "    <tr>\n",
       "      <th>3</th>\n",
       "      <td>Quiero una camiseta de algodón.</td>\n",
       "      <td>1</td>\n",
       "      <td>[(Quiero, VERB), (una, DET), (camiseta, NOUN),...</td>\n",
       "    </tr>\n",
       "    <tr>\n",
       "      <th>4</th>\n",
       "      <td>Estoy buscando una camiseta en talla grande.</td>\n",
       "      <td>1</td>\n",
       "      <td>[(Estoy, AUX), (buscando, VERB), (una, DET), (...</td>\n",
       "    </tr>\n",
       "  </tbody>\n",
       "</table>\n",
       "</div>"
      ],
      "text/plain": [
       "                                          input  intent  \\\n",
       "0                Quisiera comprar una camiseta.       1   \n",
       "1               Me gustaría pedir una camiseta.       1   \n",
       "2                  Necesito una camiseta nueva.       1   \n",
       "3               Quiero una camiseta de algodón.       1   \n",
       "4  Estoy buscando una camiseta en talla grande.       1   \n",
       "\n",
       "                                            pos_tags  \n",
       "0  [(Quisiera, VERB), (comprar, VERB), (una, DET)...  \n",
       "1  [(Me, PRON), (gustaría, VERB), (pedir, VERB), ...  \n",
       "2  [(Necesito, VERB), (una, DET), (camiseta, NOUN...  \n",
       "3  [(Quiero, VERB), (una, DET), (camiseta, NOUN),...  \n",
       "4  [(Estoy, AUX), (buscando, VERB), (una, DET), (...  "
      ]
     },
     "execution_count": 63,
     "metadata": {},
     "output_type": "execute_result"
    }
   ],
   "source": [
    "df.head()"
   ]
  },
  {
   "cell_type": "code",
   "execution_count": 64,
   "metadata": {},
   "outputs": [],
   "source": [
    "from sklearn.model_selection import train_test_split\n",
    "\n",
    "train_val_texts, test_texts, train_val_labels, test_labels = train_test_split(df['input'], df['intent'], test_size=0.1)  # Reserving 10% for testing\n",
    "train_texts, val_texts, train_labels, val_labels = train_test_split(train_val_texts, train_val_labels, test_size=0.2)  # Split remaining 90% into training and validation"
   ]
  },
  {
   "cell_type": "code",
   "execution_count": 65,
   "metadata": {},
   "outputs": [
    {
     "data": {
      "text/plain": [
       "['./model_save/label_encoder.pkl']"
      ]
     },
     "execution_count": 65,
     "metadata": {},
     "output_type": "execute_result"
    }
   ],
   "source": [
    "from transformers import AutoTokenizer\n",
    "from sklearn.preprocessing import LabelEncoder\n",
    "import joblib\n",
    "\n",
    "tokenizer = AutoTokenizer.from_pretrained('dccuchile/bert-base-spanish-wwm-uncased')\n",
    "\n",
    "# Save the tokenizer\n",
    "save_directory = \"C:\\\\Users\\\\dusti\\\\Documents\\\\Silbo\\\\beto\\\\model_save\"\n",
    "\n",
    "# Save the tokenizer to directory\n",
    "tokenizer.save_pretrained(save_directory)\n",
    "\n",
    "# already split data into train_texts, val_texts, test_texts, & train_labels, val_labels, and test_labels\n",
    "\n",
    "# Tokenize texts: for train, valuation and test\n",
    "train_encodings = tokenizer(list(train_texts), truncation=True, padding=True, max_length=128)\n",
    "val_encodings = tokenizer(list(val_texts), truncation=True, padding=True, max_length=128)\n",
    "test_encodings = tokenizer(list(test_texts), truncation=True, padding=True, max_length=128)  \n",
    "\n",
    "# Encodes labels: train, valuation and test\n",
    "label_encoder = LabelEncoder()\n",
    "train_labels_encoded = label_encoder.fit_transform(train_labels)\n",
    "val_labels_encoded = label_encoder.transform(val_labels)\n",
    "test_labels_encoded = label_encoder.transform(test_labels)  \n",
    "\n",
    "# Your existing code for fitting the LabelEncoder\n",
    "label_encoder = LabelEncoder()\n",
    "train_labels_encoded = label_encoder.fit_transform(train_labels)\n",
    "\n",
    "# Saving the fitted LabelEncoder to disk for later use \n",
    "label_encoder_path = './model_save/label_encoder.pkl' \n",
    "joblib.dump(label_encoder, label_encoder_path)"
   ]
  },
  {
   "cell_type": "code",
   "execution_count": 66,
   "metadata": {},
   "outputs": [],
   "source": [
    "'''\n",
    "Creates instances of the IntentDataset for training, validation, and testing.\n",
    "Way to \"wrap\" input data and labels for an intent classification task into a PyTorch format.\n",
    "En fin:\n",
    "Prepara los datos para el entrenamiento, la validación y el testeo en nuestro modelo de ML con PyTorch.\n",
    "'''\n",
    "\n",
    "import torch\n",
    "\n",
    "class IntentDataset(torch.utils.data.Dataset):\n",
    "    def __init__(self, encodings, labels):\n",
    "        self.encodings = encodings\n",
    "        self.labels = labels\n",
    "\n",
    "    def __getitem__(self, idx):\n",
    "        item = {key: torch.tensor(val[idx]) for key, val in self.encodings.items()}\n",
    "        item['labels'] = torch.tensor(self.labels[idx])\n",
    "        return item\n",
    "\n",
    "    def __len__(self):\n",
    "        return len(self.labels)\n",
    "\n",
    "# Convert all sets to PyTorch datasets \n",
    "train_dataset = IntentDataset(train_encodings, train_labels_encoded)\n",
    "val_dataset = IntentDataset(val_encodings, val_labels_encoded)\n",
    "test_dataset = IntentDataset(test_encodings, test_labels_encoded) "
   ]
  },
  {
   "cell_type": "code",
   "execution_count": 69,
   "metadata": {},
   "outputs": [
    {
     "name": "stderr",
     "output_type": "stream",
     "text": [
      "Some weights of BertForSequenceClassification were not initialized from the model checkpoint at dccuchile/bert-base-spanish-wwm-uncased and are newly initialized: ['bert.pooler.dense.bias', 'bert.pooler.dense.weight', 'classifier.bias', 'classifier.weight']\n",
      "You should probably TRAIN this model on a down-stream task to be able to use it for predictions and inference.\n",
      "c:\\Users\\dusti\\AppData\\Local\\Programs\\Python\\Python311\\Lib\\site-packages\\accelerate\\accelerator.py:432: FutureWarning: Passing the following arguments to `Accelerator` is deprecated and will be removed in version 1.0 of Accelerate: dict_keys(['dispatch_batches', 'split_batches', 'even_batches', 'use_seedable_sampler']). Please pass an `accelerate.DataLoaderConfiguration` instead: \n",
      "dataloader_config = DataLoaderConfiguration(dispatch_batches=None, split_batches=False, even_batches=True, use_seedable_sampler=True)\n",
      "  warnings.warn(\n"
     ]
    },
    {
     "data": {
      "application/vnd.jupyter.widget-view+json": {
       "model_id": "7d59db6d1b3643f6b66b4f20193e2a05",
       "version_major": 2,
       "version_minor": 0
      },
      "text/plain": [
       "  0%|          | 0/90 [00:00<?, ?it/s]"
      ]
     },
     "metadata": {},
     "output_type": "display_data"
    },
    {
     "name": "stdout",
     "output_type": "stream",
     "text": [
      "{'loss': 1.134, 'grad_norm': 6.32993221282959, 'learning_rate': 1.0000000000000002e-06, 'epoch': 0.56}\n"
     ]
    },
    {
     "data": {
      "application/vnd.jupyter.widget-view+json": {
       "model_id": "5d6c360bc5464ba88b6fa7e96fb56434",
       "version_major": 2,
       "version_minor": 0
      },
      "text/plain": [
       "  0%|          | 0/3 [00:00<?, ?it/s]"
      ]
     },
     "metadata": {},
     "output_type": "display_data"
    },
    {
     "name": "stdout",
     "output_type": "stream",
     "text": [
      "{'eval_loss': 1.0898706912994385, 'eval_runtime': 1.9348, 'eval_samples_per_second': 36.696, 'eval_steps_per_second': 1.551, 'epoch': 1.0}\n",
      "{'loss': 1.0812, 'grad_norm': 7.1303534507751465, 'learning_rate': 2.0000000000000003e-06, 'epoch': 1.11}\n",
      "{'loss': 1.0401, 'grad_norm': 6.685537815093994, 'learning_rate': 3e-06, 'epoch': 1.67}\n"
     ]
    },
    {
     "data": {
      "application/vnd.jupyter.widget-view+json": {
       "model_id": "6d3662b0e25f4452963170f9c685838c",
       "version_major": 2,
       "version_minor": 0
      },
      "text/plain": [
       "  0%|          | 0/3 [00:00<?, ?it/s]"
      ]
     },
     "metadata": {},
     "output_type": "display_data"
    },
    {
     "name": "stdout",
     "output_type": "stream",
     "text": [
      "{'eval_loss': 0.961395800113678, 'eval_runtime': 2.0603, 'eval_samples_per_second': 34.461, 'eval_steps_per_second': 1.456, 'epoch': 2.0}\n",
      "{'loss': 0.9834, 'grad_norm': 5.941992282867432, 'learning_rate': 4.000000000000001e-06, 'epoch': 2.22}\n",
      "{'loss': 0.8983, 'grad_norm': 6.328485488891602, 'learning_rate': 5e-06, 'epoch': 2.78}\n"
     ]
    },
    {
     "data": {
      "application/vnd.jupyter.widget-view+json": {
       "model_id": "c184920334694a1d84f98d7264864dfc",
       "version_major": 2,
       "version_minor": 0
      },
      "text/plain": [
       "  0%|          | 0/3 [00:00<?, ?it/s]"
      ]
     },
     "metadata": {},
     "output_type": "display_data"
    },
    {
     "name": "stdout",
     "output_type": "stream",
     "text": [
      "{'eval_loss': 0.7781420350074768, 'eval_runtime': 2.4321, 'eval_samples_per_second': 29.193, 'eval_steps_per_second': 1.233, 'epoch': 3.0}\n",
      "{'loss': 0.789, 'grad_norm': 6.178040504455566, 'learning_rate': 6e-06, 'epoch': 3.33}\n",
      "{'loss': 0.6528, 'grad_norm': 7.810218811035156, 'learning_rate': 7.000000000000001e-06, 'epoch': 3.89}\n"
     ]
    },
    {
     "data": {
      "application/vnd.jupyter.widget-view+json": {
       "model_id": "3f7c2e8ec26245f2aac748f3273db0ab",
       "version_major": 2,
       "version_minor": 0
      },
      "text/plain": [
       "  0%|          | 0/3 [00:00<?, ?it/s]"
      ]
     },
     "metadata": {},
     "output_type": "display_data"
    },
    {
     "name": "stdout",
     "output_type": "stream",
     "text": [
      "{'eval_loss': 0.5869789719581604, 'eval_runtime': 2.2796, 'eval_samples_per_second': 31.146, 'eval_steps_per_second': 1.316, 'epoch': 4.0}\n",
      "{'loss': 0.5479, 'grad_norm': 7.404865264892578, 'learning_rate': 8.000000000000001e-06, 'epoch': 4.44}\n",
      "{'loss': 0.4721, 'grad_norm': 9.507509231567383, 'learning_rate': 9e-06, 'epoch': 5.0}\n"
     ]
    },
    {
     "data": {
      "application/vnd.jupyter.widget-view+json": {
       "model_id": "f093c4dc74e74a2da6f24b15a9007221",
       "version_major": 2,
       "version_minor": 0
      },
      "text/plain": [
       "  0%|          | 0/3 [00:00<?, ?it/s]"
      ]
     },
     "metadata": {},
     "output_type": "display_data"
    },
    {
     "name": "stdout",
     "output_type": "stream",
     "text": [
      "{'eval_loss': 0.4573231637477875, 'eval_runtime': 2.7499, 'eval_samples_per_second': 25.819, 'eval_steps_per_second': 1.091, 'epoch': 5.0}\n",
      "{'train_runtime': 226.2894, 'train_samples_per_second': 6.231, 'train_steps_per_second': 0.398, 'train_loss': 0.8443066702948676, 'epoch': 5.0}\n"
     ]
    },
    {
     "data": {
      "application/vnd.jupyter.widget-view+json": {
       "model_id": "ee1d8f8621444d90b337e5f935e0d2bc",
       "version_major": 2,
       "version_minor": 0
      },
      "text/plain": [
       "  0%|          | 0/3 [00:00<?, ?it/s]"
      ]
     },
     "metadata": {},
     "output_type": "display_data"
    },
    {
     "data": {
      "application/vnd.jupyter.widget-view+json": {
       "model_id": "5a09b18482b54c97bbbb0d6ac9aae314",
       "version_major": 2,
       "version_minor": 0
      },
      "text/plain": [
       "  0%|          | 0/2 [00:00<?, ?it/s]"
      ]
     },
     "metadata": {},
     "output_type": "display_data"
    },
    {
     "name": "stdout",
     "output_type": "stream",
     "text": [
      "{'eval_loss': 0.32072073221206665, 'eval_runtime': 1.6182, 'eval_samples_per_second': 24.719, 'eval_steps_per_second': 1.236, 'epoch': 5.0}\n"
     ]
    }
   ],
   "source": [
    "from transformers import AutoModelForSequenceClassification, TrainingArguments, Trainer, SchedulerType\n",
    "\n",
    "num_labels = len(set(train_labels_encoded))\n",
    "model = AutoModelForSequenceClassification.from_pretrained('dccuchile/bert-base-spanish-wwm-uncased', num_labels=num_labels)\n",
    "\n",
    "training_args = TrainingArguments(\n",
    "    output_dir='./results',                 # creates output directory for model and logs\n",
    "    num_train_epochs=5,                     # number of training epochs: +1 for Fine-Tuning\n",
    "    per_device_train_batch_size=16,         # batch size: Training\n",
    "    per_device_eval_batch_size=32,         # batch size: Evaluation\n",
    "    warmup_steps=500,                       # n warmup steps\n",
    "    weight_decay=0.01,                      # strength of weight decay\n",
    "    logging_steps=10,\n",
    "    evaluation_strategy=\"epoch\",            # evaluate each `logging_steps`\n",
    "    learning_rate=5e-5,                     # initial learning rate\n",
    "    lr_scheduler_type=SchedulerType.COSINE, # Linear works best in the end \n",
    ")\n",
    "\n",
    "trainer = Trainer(\n",
    "    model=model,\n",
    "    args=training_args,\n",
    "    train_dataset=train_dataset,\n",
    "    eval_dataset=val_dataset\n",
    ")\n",
    "\n",
    "trainer.train()\n",
    "\n",
    "# Evaluate model\n",
    "trainer.evaluate()\n",
    "test_results = trainer.evaluate(test_dataset)\n",
    "print(test_results)\n",
    "\n",
    "# Define path where we want to save our model and training state\n",
    "model_path = \"C:\\\\Users\\\\dusti\\\\Documents\\\\Silbo\\\\beto\\\\model_save\"\n",
    "\n",
    "# Save model & training state\n",
    "trainer.save_model(model_path)\n",
    "trainer.state.save_to_json(os.path.join(model_path, \"trainer_state.json\"))\n"
   ]
  },
  {
   "cell_type": "code",
   "execution_count": 70,
   "metadata": {},
   "outputs": [
    {
     "data": {
      "application/vnd.jupyter.widget-view+json": {
       "model_id": "2f6aa59c619b47eab5ff7fb02bc7225d",
       "version_major": 2,
       "version_minor": 0
      },
      "text/plain": [
       "  0%|          | 0/2 [00:00<?, ?it/s]"
      ]
     },
     "metadata": {},
     "output_type": "display_data"
    },
    {
     "name": "stdout",
     "output_type": "stream",
     "text": [
      "Accuracy: 0.975\n",
      "Precision: 0.9770833333333332\n",
      "Recall: 0.975\n",
      "F1 Score: 0.975\n"
     ]
    }
   ],
   "source": [
    "# Metricas:\n",
    "\n",
    "from sklearn.metrics import accuracy_score, precision_score, recall_score, f1_score\n",
    "\n",
    "true_labels = test_labels_encoded  # True labels\n",
    "predictions = trainer.predict(test_dataset).predictions.argmax(axis=1)  # Model predictions\n",
    "\n",
    "accuracy = accuracy_score(true_labels, predictions)\n",
    "precision = precision_score(true_labels, predictions, average='weighted')  # Used 'weighted' for imbalanced classes but unnecessary here\n",
    "recall = recall_score(true_labels, predictions, average='weighted')\n",
    "f1 = f1_score(true_labels, predictions, average='weighted')\n",
    "\n",
    "print(f\"Accuracy: {accuracy}\\nPrecision: {precision}\\nRecall: {recall}\\nF1 Score: {f1}\")"
   ]
  },
  {
   "cell_type": "code",
   "execution_count": 79,
   "metadata": {},
   "outputs": [
    {
     "data": {
      "text/html": [
       "<div>\n",
       "<style scoped>\n",
       "    .dataframe tbody tr th:only-of-type {\n",
       "        vertical-align: middle;\n",
       "    }\n",
       "\n",
       "    .dataframe tbody tr th {\n",
       "        vertical-align: top;\n",
       "    }\n",
       "\n",
       "    .dataframe thead th {\n",
       "        text-align: right;\n",
       "    }\n",
       "</style>\n",
       "<table border=\"1\" class=\"dataframe\">\n",
       "  <thead>\n",
       "    <tr style=\"text-align: right;\">\n",
       "      <th></th>\n",
       "      <th>Epochs</th>\n",
       "      <th>Evaluation_Loss</th>\n",
       "      <th>Accuracy</th>\n",
       "      <th>Precision</th>\n",
       "      <th>Recall</th>\n",
       "      <th>F1</th>\n",
       "      <th>Tiempo</th>\n",
       "      <th>LR_scheduler_type</th>\n",
       "      <th>Training_Batch_Size</th>\n",
       "      <th>Evaluation_Batch_Size</th>\n",
       "    </tr>\n",
       "  </thead>\n",
       "  <tbody>\n",
       "    <tr>\n",
       "      <th>0</th>\n",
       "      <td>3</td>\n",
       "      <td>0.98</td>\n",
       "      <td>0.56</td>\n",
       "      <td>0.532</td>\n",
       "      <td>0.56</td>\n",
       "      <td>0.537</td>\n",
       "      <td>1.12</td>\n",
       "      <td>NaN</td>\n",
       "      <td>16</td>\n",
       "      <td>64</td>\n",
       "    </tr>\n",
       "    <tr>\n",
       "      <th>1</th>\n",
       "      <td>3</td>\n",
       "      <td>0.97</td>\n",
       "      <td>0.81</td>\n",
       "      <td>0.829</td>\n",
       "      <td>0.81</td>\n",
       "      <td>0.817</td>\n",
       "      <td>1.22</td>\n",
       "      <td>NaN</td>\n",
       "      <td>16</td>\n",
       "      <td>64</td>\n",
       "    </tr>\n",
       "    <tr>\n",
       "      <th>2</th>\n",
       "      <td>3</td>\n",
       "      <td>0.825</td>\n",
       "      <td>0.828</td>\n",
       "      <td>0.825</td>\n",
       "      <td>0.814</td>\n",
       "      <td>0.69</td>\n",
       "      <td>1.36</td>\n",
       "      <td>Cosine</td>\n",
       "      <td>16</td>\n",
       "      <td>32</td>\n",
       "    </tr>\n",
       "    <tr>\n",
       "      <th>3</th>\n",
       "      <td>3</td>\n",
       "      <td>0.469</td>\n",
       "      <td>0.9</td>\n",
       "      <td>0.919</td>\n",
       "      <td>0.9</td>\n",
       "      <td>0.898</td>\n",
       "      <td>2.37</td>\n",
       "      <td>Linear</td>\n",
       "      <td>16</td>\n",
       "      <td>64</td>\n",
       "    </tr>\n",
       "    <tr>\n",
       "      <th>4</th>\n",
       "      <td>3</td>\n",
       "      <td>0.572</td>\n",
       "      <td>0.9</td>\n",
       "      <td>0.919</td>\n",
       "      <td>0.9</td>\n",
       "      <td>0.899</td>\n",
       "      <td>3.13</td>\n",
       "      <td>Cosine</td>\n",
       "      <td>16</td>\n",
       "      <td>64</td>\n",
       "    </tr>\n",
       "    <tr>\n",
       "      <th>5</th>\n",
       "      <td>3</td>\n",
       "      <td>0.541</td>\n",
       "      <td>0.811</td>\n",
       "      <td>0.822</td>\n",
       "      <td>0.811</td>\n",
       "      <td>0.797</td>\n",
       "      <td>1.15</td>\n",
       "      <td>Linear</td>\n",
       "      <td>36</td>\n",
       "      <td>128</td>\n",
       "    </tr>\n",
       "    <tr>\n",
       "      <th>6</th>\n",
       "      <td>4</td>\n",
       "      <td>0.91</td>\n",
       "      <td>0.65</td>\n",
       "      <td>0.67</td>\n",
       "      <td>0.65</td>\n",
       "      <td>0.65</td>\n",
       "      <td>2.38</td>\n",
       "      <td>Cosine</td>\n",
       "      <td>36</td>\n",
       "      <td>128</td>\n",
       "    </tr>\n",
       "    <tr>\n",
       "      <th>7</th>\n",
       "      <td>4</td>\n",
       "      <td>0.943</td>\n",
       "      <td>0.625</td>\n",
       "      <td>0.631</td>\n",
       "      <td>0.625</td>\n",
       "      <td>0.621</td>\n",
       "      <td>2.33</td>\n",
       "      <td>Linear</td>\n",
       "      <td>44</td>\n",
       "      <td>128</td>\n",
       "    </tr>\n",
       "    <tr>\n",
       "      <th>8</th>\n",
       "      <td>5</td>\n",
       "      <td>0.321</td>\n",
       "      <td>0.975</td>\n",
       "      <td>0.977</td>\n",
       "      <td>0.975</td>\n",
       "      <td>0.75</td>\n",
       "      <td>3.46</td>\n",
       "      <td>Cosine</td>\n",
       "      <td>16</td>\n",
       "      <td>32</td>\n",
       "    </tr>\n",
       "  </tbody>\n",
       "</table>\n",
       "</div>"
      ],
      "text/plain": [
       "  Epochs Evaluation_Loss Accuracy Precision Recall     F1 Tiempo  \\\n",
       "0      3            0.98     0.56     0.532   0.56  0.537   1.12   \n",
       "1      3            0.97     0.81     0.829   0.81  0.817   1.22   \n",
       "2      3           0.825    0.828     0.825  0.814   0.69   1.36   \n",
       "3      3           0.469      0.9     0.919    0.9  0.898   2.37   \n",
       "4      3           0.572      0.9     0.919    0.9  0.899   3.13   \n",
       "5      3           0.541    0.811     0.822  0.811  0.797   1.15   \n",
       "6      4            0.91     0.65      0.67   0.65   0.65   2.38   \n",
       "7      4           0.943    0.625     0.631  0.625  0.621   2.33   \n",
       "8      5           0.321    0.975     0.977  0.975   0.75   3.46   \n",
       "\n",
       "  LR_scheduler_type Training_Batch_Size Evaluation_Batch_Size  \n",
       "0               NaN                  16                    64  \n",
       "1               NaN                  16                    64  \n",
       "2            Cosine                  16                    32  \n",
       "3            Linear                  16                    64  \n",
       "4            Cosine                  16                    64  \n",
       "5            Linear                  36                   128  \n",
       "6            Cosine                  36                   128  \n",
       "7            Linear                  44                   128  \n",
       "8            Cosine                  16                    32  "
      ]
     },
     "execution_count": 79,
     "metadata": {},
     "output_type": "execute_result"
    }
   ],
   "source": [
    "# Fine-tuning y sus Metricas: \n",
    "# La diferencia entre la primera y segunda columna es el aumento de 120 frases nuevas en el dataset\n",
    "# Evaluation_Loss se basa en test dataset\n",
    "\n",
    "cols = ['Epochs', 'Evaluation_Loss', 'Accuracy', 'Precision', 'Recall', 'F1', 'Tiempo', 'LR_scheduler_type', 'Training_Batch_Size', 'Evaluation_Batch_Size']\n",
    "df_metricas = pd.DataFrame(index=range(8), columns=cols)\n",
    "df_metricas.loc[0] = [3, 0.98, 0.56, 0.532, 0.56, 0.537, 1.12, 'NaN', 16, 64]\n",
    "df_metricas.loc[1] = [3, 0.97, 0.81, 0.829, 0.81, 0.817, 1.22, 'NaN', 16, 64]\n",
    "df_metricas.loc[2] = [3, 0.825, 0.828, 0.825, 0.814, 0.69, 1.36, 'Cosine', 16, 32]\n",
    "df_metricas.loc[3] = [3, 0.469, 0.9, 0.919, 0.9, 0.898, 2.37, 'Linear', 16, 64]\n",
    "df_metricas.loc[4] = [3,  0.572, 0.9, 0.919, 0.9, 0.899, 3.13, 'Cosine', 16, 64]\n",
    "df_metricas.loc[5] = [3, 0.541, 0.811, 0.822, 0.811, 0.797, 1.15, 'Linear', 36, 128]\n",
    "df_metricas.loc[6] = [4, 0.91, 0.65, 0.67, 0.65, 0.65, 2.38, 'Cosine', 36, 128]\n",
    "df_metricas.loc[7] = [4, 0.943, 0.625, 0.631, 0.625, 0.621, 2.33, 'Linear', 44, 128]\n",
    "df_metricas.loc[8] = [5, 0.321, 0.975, 0.977, 0.975, 0.75, 3.46, 'Cosine', 16, 32]\n",
    "\n",
    "df_metricas"
   ]
  },
  {
   "cell_type": "code",
   "execution_count": 71,
   "metadata": {},
   "outputs": [
    {
     "data": {
      "image/png": "[encoded data removed]",
      "text/plain": [
       "<Figure size 1000x500 with 1 Axes>"
      ]
     },
     "metadata": {},
     "output_type": "display_data"
    }
   ],
   "source": [
    "# Representacion visual de POS para que podamos ver las frecuencias:\n",
    "\n",
    "from collections import Counter\n",
    "import matplotlib.pyplot as plt\n",
    "\n",
    "# df['pos_tags'] contains lists of (word, POS) tuples\n",
    "pos_counts = Counter([pos for row in df['pos_tags'] for _, pos in row])\n",
    "\n",
    "plt.figure(figsize=(10, 5))\n",
    "plt.bar(pos_counts.keys(), pos_counts.values())\n",
    "plt.xlabel('Part of Speech')\n",
    "plt.ylabel('Frequency')\n",
    "plt.title('Frequency of POS Tags in Dataset')\n",
    "plt.xticks(rotation=45)\n",
    "plt.show()"
   ]
  },
  {
   "cell_type": "code",
   "execution_count": 80,
   "metadata": {},
   "outputs": [
    {
     "name": "stdout",
     "output_type": "stream",
     "text": [
      "Predicted intent: 2\n"
     ]
    }
   ],
   "source": [
    "# Función de Prediccion de intents del input (frase)\n",
    "\n",
    "def predict_intent(frase):\n",
    "    # Tokenize input \n",
    "    inputs = tokenizer(frase, padding=True, truncation=True, max_length=128, return_tensors=\"pt\")   #pt = pytorch\n",
    "\n",
    "    # Predict\n",
    "    with torch.no_grad():\n",
    "        logits = model(**inputs).logits\n",
    "\n",
    "    # Get predicted label ID\n",
    "    predicted_label_id = logits.argmax().item()\n",
    "\n",
    "    # Decode label ID back to label name, el [0] indica que usa el primer elemento de la columna intent, en nuestro caso: 1 \n",
    "    predicted_label = label_encoder.inverse_transform([predicted_label_id])[0]\n",
    "    return predicted_label\n",
    "\n",
    "# Probar input para verificar intent, funciona bien con 3 pero no siempre con 1 y 2\n",
    "frase = \"quiero informacion sobre la empresa\"\n",
    "predicted_intent = predict_intent(frase)\n",
    "print(f\"Predicted intent: {predicted_intent}\")"
   ]
  },
  {
   "cell_type": "code",
   "execution_count": null,
   "metadata": {},
   "outputs": [],
   "source": []
  },
  {
   "cell_type": "code",
   "execution_count": null,
   "metadata": {},
   "outputs": [],
   "source": []
  }
 ],
 "metadata": {
  "kernelspec": {
   "display_name": "Python 3",
   "language": "python",
   "name": "python3"
  },
  "language_info": {
   "codemirror_mode": {
    "name": "ipython",
    "version": 3
   },
   "file_extension": ".py",
   "mimetype": "text/x-python",
   "name": "python",
   "nbconvert_exporter": "python",
   "pygments_lexer": "ipython3",
   "version": "3.11.4"
  }
 },
 "nbformat": 4,
 "nbformat_minor": 2
}
