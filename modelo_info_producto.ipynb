{
 "cells": [
  {
   "cell_type": "code",
   "execution_count": 11,
   "metadata": {},
   "outputs": [
    {
     "name": "stdout",
     "output_type": "stream",
     "text": [
      "Pandas: 2.0.3\n",
      "spaCy: 3.7.4\n"
     ]
    }
   ],
   "source": [
    "# Data science\n",
    "import pandas as pd\n",
    "print(f\"Pandas: {pd.__version__}\")\n",
    "\n",
    "# NER\n",
    "import spacy\n",
    "print(f'spaCy: {spacy.__version__}')\n",
    "import spacy\n",
    "from spacy.matcher import PhraseMatcher\n",
    "\n",
    "import PrendasDB"
   ]
  },
  {
   "cell_type": "code",
   "execution_count": 12,
   "metadata": {},
   "outputs": [],
   "source": [
    "prendas_caracteristicas = {\n",
    "    \"Camisa\": \"Camisa de manga larga con cuello italiano y confeccionada en algodón.\",\n",
    "    \"Pantalón\": \"Pantalón slim fit con detalle de bolsillos y cremalleras.\",\n",
    "    \"Vestido\": \"Vestido con corte A y detalle de encaje en el escote.\",\n",
    "    \"Chaqueta\": \"Chaqueta con diseño acolchado y detalles de botones en los puños.\",\n",
    "    \"Zapatos\": \"Zapatos de material de cuero con suela antideslizante y plantilla acolchada.\",\n",
    "    \"Falda\": \"Falda plisada con estampado de lunares y detalle de cinturón.\",\n",
    "    \"Bufanda\": \"Bufanda tejida en lana con diseño de trenzas y borlas en los extremos.\",\n",
    "    \"Sombrero\": \"Sombrero de ala ancha con detalle de lazo en la parte trasera.\",\n",
    "    \"Suéter\": \"Suéter tejido de punto grueso con cuello alto y patrón de ochos.\",\n",
    "    \"Gorra\": \"Gorra deportiva con paneles de malla para mayor ventilación y cierre ajustable.\",\n",
    "    \"Abrigo\": \"Abrigo largo con cuello de solapa y cinturón para ajustar a la cintura.\",\n",
    "    \"Pijama\": \"Pijama conjunto de pantalón y camiseta con estampado de estrellas y ajuste elástico.\",\n",
    "    \"Bikini\": \"Bikini conjunto de top bandeau y braguita de tiro alto con diseño de hojas tropicales.\",\n",
    "    \"Corbata\": \"Corbata clásica con diseño a rayas diagonales y tejido de seda.\",\n",
    "    \"Mochila\": \"Mochila con varios compartimentos y bolsillo lateral para botella de agua.\",\n",
    "    \"Guantes\": \"Guantes tejidos en lana con detalle de botón en la muñeca.\",\n",
    "    \"Parka\": \"Parka con capucha desmontable y forro interior de pelo sintético.\",\n",
    "    \"Sudadera\": \"Sudadera con capucha y detalle de estampado gráfico en la parte delantera.\",\n",
    "    \"Medias\": \"Medias opacas con tejido elástico y refuerzo en la puntera.\",\n",
    "    \"Chaleco\": \"Chaleco acolchado con cierre de cremallera y bolsillos frontales.\",\n",
    "    \"Traje\": \"Traje de dos piezas con diseño entallado y solapa de muesca.\",\n",
    "    \"Shorts\": \"Shorts de algodón con cintura elástica y detalle de cordón ajustable.\",\n",
    "    \"Blusa\": \"Blusa de manga corta con detalle de pliegues en el escote y botones frontales.\",\n",
    "    \"Poncho\": \"Poncho tejido con flecos en el borde y diseño geométrico.\",\n",
    "    \"Cinturón\": \"Cinturón de cuero con hebilla metálica y detalle de pespuntes en los bordes.\",\n",
    "    \"Calcetines\": \"Calcetines deportivos con tecnología de absorción de humedad y acolchado en la planta del pie.\",\n",
    "    \"Top\": \"Top ajustado de tirantes con detalle de encaje en el escote.\",\n",
    "    \"Traje de baño\": \"Traje de baño de una pieza con escote en V y detalle de volantes en la cintura.\",\n",
    "    \"Turbante\": \"ideal para el Ramadán\",\n",
    "    \"Botas\": \"Botas altas de cuero con tacón grueso y detalle de hebillas en el lateral.\"\n",
    "}\n",
    "\n"
   ]
  },
  {
   "cell_type": "code",
   "execution_count": 22,
   "metadata": {},
   "outputs": [
    {
     "name": "stdout",
     "output_type": "stream",
     "text": [
      "Prenda identificada: Chaleco\n"
     ]
    }
   ],
   "source": [
    "\n",
    "\n",
    "# Cargar el modelo de lenguaje de SpaCy\n",
    "nlp = spacy.load(\"es_core_news_sm\")\n",
    "\n",
    "# Inicializar el matcher de SpaCy\n",
    "matcher = PhraseMatcher(nlp.vocab)\n",
    "patterns = list(nlp.pipe(prendas_caracteristicas.keys()))\n",
    "matcher.add(\"Prenda\", None, *patterns)\n",
    "\n",
    "# Función para identificar la prenda y devolver sus características\n",
    "def identificar_prenda(texto):\n",
    "    doc = nlp(texto)\n",
    "    matches = matcher(doc)\n",
    "    for match_id, start, end in matches:\n",
    "        prenda = doc[start:end].text\n",
    "        caracteristicas = prendas_caracteristicas.get(prenda)\n",
    "        if caracteristicas:\n",
    "            return prenda, caracteristicas\n",
    "    return None, None\n",
    "\n",
    "# Ejemplo de uso\n",
    "texto_ejemplo = \"Chaleco para la guerra santa\"\n",
    "prenda_identificada, caracteristicas = identificar_prenda(texto_ejemplo)\n",
    "if prenda_identificada:\n",
    "    print(f\"Prenda identificada: {prenda_identificada}\")\n",
    "else:\n",
    "    print(\"No se encontró ninguna prenda con esas características\")\n"
   ]
  },
  {
   "cell_type": "code",
   "execution_count": 14,
   "metadata": {},
   "outputs": [],
   "source": [
    "PrendasDB.crearDB()"
   ]
  },
  {
   "cell_type": "code",
   "execution_count": 15,
   "metadata": {},
   "outputs": [
    {
     "name": "stdout",
     "output_type": "stream",
     "text": [
      "Características creadas correctamente.\n"
     ]
    }
   ],
   "source": [
    "PrendasDB.crear_caracteristicas()"
   ]
  },
  {
   "cell_type": "code",
   "execution_count": 16,
   "metadata": {},
   "outputs": [
    {
     "name": "stdout",
     "output_type": "stream",
     "text": [
      "Prendas creadas:\n",
      "(1, 'Camisa', 'Camisa de manga larga con cuello italiano y confeccionada en algodón.')\n",
      "(2, 'Pantalón', 'Pantalón slim fit con detalle de bolsillos y cremalleras.')\n",
      "(3, 'Vestido', 'Vestido con corte A y detalle de encaje en el escote.')\n",
      "(4, 'Chaqueta', 'Chaqueta con diseño acolchado y detalles de botones en los puños.')\n",
      "(5, 'Zapatos', 'Zapatos de material de cuero con suela antideslizante y plantilla acolchada.')\n",
      "(6, 'Falda', 'Falda plisada con estampado de lunares y detalle de cinturón.')\n",
      "(7, 'Bufanda', 'Bufanda tejida en lana con diseño de trenzas y borlas en los extremos.')\n",
      "(8, 'Sombrero', 'Sombrero de ala ancha con detalle de lazo en la parte trasera.')\n",
      "(9, 'Suéter', 'Suéter tejido de punto grueso con cuello alto y patrón de ochos.')\n",
      "(10, 'Gorra', 'Gorra deportiva con paneles de malla para mayor ventilación y cierre ajustable.')\n",
      "(11, 'Abrigo', 'Abrigo largo con cuello de solapa y cinturón para ajustar a la cintura.')\n",
      "(12, 'Pijama', 'Pijama conjunto de pantalón y camiseta con estampado de estrellas y ajuste elástico.')\n",
      "(13, 'Bikini', 'Bikini conjunto de top bandeau y braguita de tiro alto con diseño de hojas tropicales.')\n",
      "(14, 'Corbata', 'Corbata clásica con diseño a rayas diagonales y tejido de seda.')\n",
      "(15, 'Mochila', 'Mochila con varios compartimentos y bolsillo lateral para botella de agua.')\n",
      "(16, 'Guantes', 'Guantes tejidos en lana con detalle de botón en la muñeca.')\n",
      "(17, 'Parka', 'Parka con capucha desmontable y forro interior de pelo sintético.')\n",
      "(18, 'Sudadera', 'Sudadera con capucha y detalle de estampado gráfico en la parte delantera.')\n",
      "(19, 'Medias', 'Medias opacas con tejido elástico y refuerzo en la puntera.')\n",
      "(20, 'Chaleco', 'Chaleco acolchado con cierre de cremallera y bolsillos frontales.')\n",
      "(21, 'Traje', 'Traje de dos piezas con diseño entallado y solapa de muesca.')\n",
      "(22, 'Shorts', 'Shorts de algodón con cintura elástica y detalle de cordón ajustable.')\n",
      "(23, 'Blusa', 'Blusa de manga corta con detalle de pliegues en el escote y botones frontales.')\n",
      "(24, 'Poncho', 'Poncho tejido con flecos en el borde y diseño geométrico.')\n",
      "(25, 'Cinturón', 'Cinturón de cuero con hebilla metálica y detalle de pespuntes en los bordes.')\n",
      "(26, 'Calcetines', 'Calcetines deportivos con tecnología de absorción de humedad y acolchado en la planta del pie.')\n",
      "(27, 'Top', 'Top ajustado de tirantes con detalle de encaje en el escote.')\n",
      "(28, 'Traje de baño', 'Traje de baño de una pieza con escote en V y detalle de volantes en la cintura.')\n",
      "(29, 'Botas', 'Botas altas de cuero con tacón grueso y detalle de hebillas en el lateral.')\n",
      "(30, 'Camisa', 'Camisa de manga larga con cuello italiano y confeccionada en algodón.')\n",
      "(31, 'Pantalón', 'Pantalón slim fit con detalle de bolsillos y cremalleras.')\n",
      "(32, 'Vestido', 'Vestido con corte A y detalle de encaje en el escote.')\n",
      "(33, 'Chaqueta', 'Chaqueta con diseño acolchado y detalles de botones en los puños.')\n",
      "(34, 'Zapatos', 'Zapatos de material de cuero con suela antideslizante y plantilla acolchada.')\n",
      "(35, 'Falda', 'Falda plisada con estampado de lunares y detalle de cinturón.')\n",
      "(36, 'Bufanda', 'Bufanda tejida en lana con diseño de trenzas y borlas en los extremos.')\n",
      "(37, 'Sombrero', 'Sombrero de ala ancha con detalle de lazo en la parte trasera.')\n",
      "(38, 'Suéter', 'Suéter tejido de punto grueso con cuello alto y patrón de ochos.')\n",
      "(39, 'Gorra', 'Gorra deportiva con paneles de malla para mayor ventilación y cierre ajustable.')\n",
      "(40, 'Abrigo', 'Abrigo largo con cuello de solapa y cinturón para ajustar a la cintura.')\n",
      "(41, 'Pijama', 'Pijama conjunto de pantalón y camiseta con estampado de estrellas y ajuste elástico.')\n",
      "(42, 'Bikini', 'Bikini conjunto de top bandeau y braguita de tiro alto con diseño de hojas tropicales.')\n",
      "(43, 'Corbata', 'Corbata clásica con diseño a rayas diagonales y tejido de seda.')\n",
      "(44, 'Mochila', 'Mochila con varios compartimentos y bolsillo lateral para botella de agua.')\n",
      "(45, 'Guantes', 'Guantes tejidos en lana con detalle de botón en la muñeca.')\n",
      "(46, 'Parka', 'Parka con capucha desmontable y forro interior de pelo sintético.')\n",
      "(47, 'Sudadera', 'Sudadera con capucha y detalle de estampado gráfico en la parte delantera.')\n",
      "(48, 'Medias', 'Medias opacas con tejido elástico y refuerzo en la puntera.')\n",
      "(49, 'Chaleco', 'Chaleco acolchado con cierre de cremallera y bolsillos frontales.')\n",
      "(50, 'Traje', 'Traje de dos piezas con diseño entallado y solapa de muesca.')\n",
      "(51, 'Shorts', 'Shorts de algodón con cintura elástica y detalle de cordón ajustable.')\n",
      "(52, 'Blusa', 'Blusa de manga corta con detalle de pliegues en el escote y botones frontales.')\n",
      "(53, 'Poncho', 'Poncho tejido con flecos en el borde y diseño geométrico.')\n",
      "(54, 'Cinturón', 'Cinturón de cuero con hebilla metálica y detalle de pespuntes en los bordes.')\n",
      "(55, 'Calcetines', 'Calcetines deportivos con tecnología de absorción de humedad y acolchado en la planta del pie.')\n",
      "(56, 'Top', 'Top ajustado de tirantes con detalle de encaje en el escote.')\n",
      "(57, 'Traje de baño', 'Traje de baño de una pieza con escote en V y detalle de volantes en la cintura.')\n",
      "(58, 'Botas', 'Botas altas de cuero con tacón grueso y detalle de hebillas en el lateral.')\n",
      "(59, 'Camisa', 'Camisa de manga larga con cuello italiano y confeccionada en algodón.')\n",
      "(60, 'Pantalón', 'Pantalón slim fit con detalle de bolsillos y cremalleras.')\n",
      "(61, 'Vestido', 'Vestido con corte A y detalle de encaje en el escote.')\n",
      "(62, 'Chaqueta', 'Chaqueta con diseño acolchado y detalles de botones en los puños.')\n",
      "(63, 'Zapatos', 'Zapatos de material de cuero con suela antideslizante y plantilla acolchada.')\n",
      "(64, 'Falda', 'Falda plisada con estampado de lunares y detalle de cinturón.')\n",
      "(65, 'Bufanda', 'Bufanda tejida en lana con diseño de trenzas y borlas en los extremos.')\n",
      "(66, 'Sombrero', 'Sombrero de ala ancha con detalle de lazo en la parte trasera.')\n",
      "(67, 'Suéter', 'Suéter tejido de punto grueso con cuello alto y patrón de ochos.')\n",
      "(68, 'Gorra', 'Gorra deportiva con paneles de malla para mayor ventilación y cierre ajustable.')\n",
      "(69, 'Abrigo', 'Abrigo largo con cuello de solapa y cinturón para ajustar a la cintura.')\n",
      "(70, 'Pijama', 'Pijama conjunto de pantalón y camiseta con estampado de estrellas y ajuste elástico.')\n",
      "(71, 'Bikini', 'Bikini conjunto de top bandeau y braguita de tiro alto con diseño de hojas tropicales.')\n",
      "(72, 'Corbata', 'Corbata clásica con diseño a rayas diagonales y tejido de seda.')\n",
      "(73, 'Mochila', 'Mochila con varios compartimentos y bolsillo lateral para botella de agua.')\n",
      "(74, 'Guantes', 'Guantes tejidos en lana con detalle de botón en la muñeca.')\n",
      "(75, 'Parka', 'Parka con capucha desmontable y forro interior de pelo sintético.')\n",
      "(76, 'Sudadera', 'Sudadera con capucha y detalle de estampado gráfico en la parte delantera.')\n",
      "(77, 'Medias', 'Medias opacas con tejido elástico y refuerzo en la puntera.')\n",
      "(78, 'Chaleco', 'Chaleco acolchado con cierre de cremallera y bolsillos frontales.')\n",
      "(79, 'Traje', 'Traje de dos piezas con diseño entallado y solapa de muesca.')\n",
      "(80, 'Shorts', 'Shorts de algodón con cintura elástica y detalle de cordón ajustable.')\n",
      "(81, 'Blusa', 'Blusa de manga corta con detalle de pliegues en el escote y botones frontales.')\n",
      "(82, 'Poncho', 'Poncho tejido con flecos en el borde y diseño geométrico.')\n",
      "(83, 'Cinturón', 'Cinturón de cuero con hebilla metálica y detalle de pespuntes en los bordes.')\n",
      "(84, 'Calcetines', 'Calcetines deportivos con tecnología de absorción de humedad y acolchado en la planta del pie.')\n",
      "(85, 'Top', 'Top ajustado de tirantes con detalle de encaje en el escote.')\n",
      "(86, 'Traje de baño', 'Traje de baño de una pieza con escote en V y detalle de volantes en la cintura.')\n",
      "(87, 'Botas', 'Botas altas de cuero con tacón grueso y detalle de hebillas en el lateral.')\n"
     ]
    }
   ],
   "source": [
    "print(\"Prendas creadas:\")\n",
    "prendas = PrendasDB.leer_caracteristicas()\n",
    "prendas"
   ]
  },
  {
   "cell_type": "code",
   "execution_count": 17,
   "metadata": {},
   "outputs": [
    {
     "data": {
      "text/html": [
       "<div>\n",
       "<style scoped>\n",
       "    .dataframe tbody tr th:only-of-type {\n",
       "        vertical-align: middle;\n",
       "    }\n",
       "\n",
       "    .dataframe tbody tr th {\n",
       "        vertical-align: top;\n",
       "    }\n",
       "\n",
       "    .dataframe thead th {\n",
       "        text-align: right;\n",
       "    }\n",
       "</style>\n",
       "<table border=\"1\" class=\"dataframe\">\n",
       "  <thead>\n",
       "    <tr style=\"text-align: right;\">\n",
       "      <th></th>\n",
       "      <th>id</th>\n",
       "      <th>prenda</th>\n",
       "      <th>caracteristicas</th>\n",
       "    </tr>\n",
       "  </thead>\n",
       "  <tbody>\n",
       "    <tr>\n",
       "      <th>0</th>\n",
       "      <td>1</td>\n",
       "      <td>Camisa</td>\n",
       "      <td>Camisa de manga larga con cuello italiano y co...</td>\n",
       "    </tr>\n",
       "    <tr>\n",
       "      <th>1</th>\n",
       "      <td>2</td>\n",
       "      <td>Pantalón</td>\n",
       "      <td>Pantalón slim fit con detalle de bolsillos y c...</td>\n",
       "    </tr>\n",
       "    <tr>\n",
       "      <th>2</th>\n",
       "      <td>3</td>\n",
       "      <td>Vestido</td>\n",
       "      <td>Vestido con corte A y detalle de encaje en el ...</td>\n",
       "    </tr>\n",
       "    <tr>\n",
       "      <th>3</th>\n",
       "      <td>4</td>\n",
       "      <td>Chaqueta</td>\n",
       "      <td>Chaqueta con diseño acolchado y detalles de bo...</td>\n",
       "    </tr>\n",
       "    <tr>\n",
       "      <th>4</th>\n",
       "      <td>5</td>\n",
       "      <td>Zapatos</td>\n",
       "      <td>Zapatos de material de cuero con suela antides...</td>\n",
       "    </tr>\n",
       "    <tr>\n",
       "      <th>...</th>\n",
       "      <td>...</td>\n",
       "      <td>...</td>\n",
       "      <td>...</td>\n",
       "    </tr>\n",
       "    <tr>\n",
       "      <th>82</th>\n",
       "      <td>83</td>\n",
       "      <td>Cinturón</td>\n",
       "      <td>Cinturón de cuero con hebilla metálica y detal...</td>\n",
       "    </tr>\n",
       "    <tr>\n",
       "      <th>83</th>\n",
       "      <td>84</td>\n",
       "      <td>Calcetines</td>\n",
       "      <td>Calcetines deportivos con tecnología de absorc...</td>\n",
       "    </tr>\n",
       "    <tr>\n",
       "      <th>84</th>\n",
       "      <td>85</td>\n",
       "      <td>Top</td>\n",
       "      <td>Top ajustado de tirantes con detalle de encaje...</td>\n",
       "    </tr>\n",
       "    <tr>\n",
       "      <th>85</th>\n",
       "      <td>86</td>\n",
       "      <td>Traje de baño</td>\n",
       "      <td>Traje de baño de una pieza con escote en V y d...</td>\n",
       "    </tr>\n",
       "    <tr>\n",
       "      <th>86</th>\n",
       "      <td>87</td>\n",
       "      <td>Botas</td>\n",
       "      <td>Botas altas de cuero con tacón grueso y detall...</td>\n",
       "    </tr>\n",
       "  </tbody>\n",
       "</table>\n",
       "<p>87 rows × 3 columns</p>\n",
       "</div>"
      ],
      "text/plain": [
       "    id         prenda                                    caracteristicas\n",
       "0    1         Camisa  Camisa de manga larga con cuello italiano y co...\n",
       "1    2       Pantalón  Pantalón slim fit con detalle de bolsillos y c...\n",
       "2    3        Vestido  Vestido con corte A y detalle de encaje en el ...\n",
       "3    4       Chaqueta  Chaqueta con diseño acolchado y detalles de bo...\n",
       "4    5        Zapatos  Zapatos de material de cuero con suela antides...\n",
       "..  ..            ...                                                ...\n",
       "82  83       Cinturón  Cinturón de cuero con hebilla metálica y detal...\n",
       "83  84     Calcetines  Calcetines deportivos con tecnología de absorc...\n",
       "84  85            Top  Top ajustado de tirantes con detalle de encaje...\n",
       "85  86  Traje de baño  Traje de baño de una pieza con escote en V y d...\n",
       "86  87          Botas  Botas altas de cuero con tacón grueso y detall...\n",
       "\n",
       "[87 rows x 3 columns]"
      ]
     },
     "execution_count": 17,
     "metadata": {},
     "output_type": "execute_result"
    }
   ],
   "source": [
    "query = '''\n",
    "        SELECT * \n",
    "        FROM CaracteristicasPrendas\n",
    "        '''\n",
    "df = PrendasDB.sql_query(query)\n",
    "df"
   ]
  },
  {
   "cell_type": "code",
   "execution_count": 18,
   "metadata": {},
   "outputs": [],
   "source": [
    "# Función para obtener las características de una prenda\n",
    "def obtener_caracteristicas(prenda):\n",
    "    caracteristicas = prendas_caracteristicas.get(prenda)\n",
    "    if caracteristicas is None:\n",
    "        return \"La prenda no fue encontrada en la base de datos.\"\n",
    "    return caracteristicas\n"
   ]
  },
  {
   "cell_type": "code",
   "execution_count": 23,
   "metadata": {},
   "outputs": [
    {
     "data": {
      "text/plain": [
       "'Chaleco acolchado con cierre de cremallera y bolsillos frontales.'"
      ]
     },
     "execution_count": 23,
     "metadata": {},
     "output_type": "execute_result"
    }
   ],
   "source": [
    "obtener_caracteristicas(prenda_identificada)"
   ]
  }
 ],
 "metadata": {
  "kernelspec": {
   "display_name": "Python 3",
   "language": "python",
   "name": "python3"
  },
  "language_info": {
   "codemirror_mode": {
    "name": "ipython",
    "version": 3
   },
   "file_extension": ".py",
   "mimetype": "text/x-python",
   "name": "python",
   "nbconvert_exporter": "python",
   "pygments_lexer": "ipython3",
   "version": "3.8.10"
  }
 },
 "nbformat": 4,
 "nbformat_minor": 2
}
