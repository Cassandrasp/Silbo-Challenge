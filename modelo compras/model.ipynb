{
 "cells": [
  {
   "cell_type": "code",
   "execution_count": 26,
   "metadata": {},
   "outputs": [],
   "source": [
    "#intalamos las librerias necesarias y las comentamos\n",
    "#!pip install torch"
   ]
  },
  {
   "cell_type": "code",
   "execution_count": 27,
   "metadata": {},
   "outputs": [],
   "source": [
    "#!pip install -U sentence-transformers"
   ]
  },
  {
   "cell_type": "code",
   "execution_count": 28,
   "metadata": {},
   "outputs": [],
   "source": [
    "import pandas as pd\n",
    "from sentence_transformers import SentenceTransformer, util"
   ]
  },
  {
   "cell_type": "code",
   "execution_count": 29,
   "metadata": {},
   "outputs": [],
   "source": [
    "# Load model\n",
    "model = SentenceTransformer('dariolopez/roberta-base-bne-finetuned-msmarco-qa-es-mnrl-mn')"
   ]
  },
  {
   "cell_type": "code",
   "execution_count": 38,
   "metadata": {},
   "outputs": [
    {
     "name": "stdout",
     "output_type": "stream",
     "text": [
      "corpus_id: 2, score: 0.6827741265296936, text: Deseo comprar un vestido azul en talla M...\n",
      "corpus_id: 0, score: 0.6479219198226929, text: Quiero comprar una camiseta roja en talla S...\n"
     ]
    }
   ],
   "source": [
    "#añadimos primeras frases sacadas del csv conjunto para prueba de captacion de talla del modelo\n",
    "\n",
    "corpus = [\n",
    "    \"Quiero comprar una camiseta roja en talla S\",\n",
    "    \"Estoy interesado en adquirir unos pantalones negros\",\n",
    "    \"Deseo comprar un vestido azul en talla M\",\n",
    "    \"Necesito comprar una chaqueta gris\",\n",
    "    \"Cuánto cuesta una camisa verde en talla L\"\n",
    "    ]\n",
    "\n",
    "#query de talla\n",
    "query = \"quiero que me digas la talla\"\n",
    "\n",
    "# Encode corpus and query\n",
    "corpus_embeddings = model.encode(corpus)\n",
    "query_embedding = model.encode(query)\n",
    "\n",
    "# Get the 2 best results on the corpus options\n",
    "hits = util.semantic_search(query_embedding, corpus_embeddings, top_k=2)[0]\n",
    "for hit in hits:\n",
    "    print(f\"corpus_id: {hit['corpus_id']}, score: {hit['score']}, text: {corpus[hit['corpus_id']][0:100]}...\")"
   ]
  },
  {
   "cell_type": "code",
   "execution_count": 40,
   "metadata": {},
   "outputs": [
    {
     "data": {
      "text/plain": [
       "{'score': 0.7406956553459167, 'start': 41, 'end': 43, 'answer': ' S'}"
      ]
     },
     "execution_count": 40,
     "metadata": {},
     "output_type": "execute_result"
    }
   ],
   "source": [
    "#hacemos prueba con otro modelo solo para talla\n",
    "\n",
    "from transformers import pipeline\n",
    "\n",
    "qa_model = pipeline(\"question-answering\", \"timpal0l/mdeberta-v3-base-squad2\")\n",
    "question = \"dime la talla?\"\n",
    "context = \"Quiero comprar una camiseta roja en talla S\"\n",
    "qa_model(question = question, context = context)\n"
   ]
  },
  {
   "cell_type": "code",
   "execution_count": 51,
   "metadata": {},
   "outputs": [
    {
     "data": {
      "text/plain": [
       "[{'score': 0.7406956553459167, 'start': 41, 'end': 43, 'answer': ' S'},\n",
       " {'score': 0.6520594954490662, 'start': 27, 'end': 32, 'answer': ' roja'},\n",
       " {'score': 0.38357827067375183,\n",
       "  'start': 18,\n",
       "  'end': 43,\n",
       "  'answer': ' camiseta roja en talla S'}]"
      ]
     },
     "execution_count": 51,
     "metadata": {},
     "output_type": "execute_result"
    }
   ],
   "source": [
    "#el resultado anterior es buemo con lo que probamos el modelo para talla, color y prenda\n",
    "from transformers import pipeline\n",
    "\n",
    "qa_model = pipeline(\"question-answering\", \"timpal0l/mdeberta-v3-base-squad2\")\n",
    "question1 = \"dime la talla?\"\n",
    "question2 = \"dime el color?\"\n",
    "question3 = \"dime la prenda?\"\n",
    "context = \"Quiero comprar una camiseta roja en talla S\"\n",
    "qa_model(question = [question1, question2, question3], context = context)"
   ]
  },
  {
   "cell_type": "code",
   "execution_count": 52,
   "metadata": {},
   "outputs": [
    {
     "data": {
      "text/plain": [
       "[{'score': 0.6862040758132935, 'start': 39, 'end': 41, 'answer': ' L'},\n",
       " {'score': 0.6503140330314636, 'start': 24, 'end': 30, 'answer': ' verde'},\n",
       " {'score': 0.3040526509284973,\n",
       "  'start': 17,\n",
       "  'end': 41,\n",
       "  'answer': ' camisa verde en talla L'}]"
      ]
     },
     "execution_count": 52,
     "metadata": {},
     "output_type": "execute_result"
    }
   ],
   "source": [
    "# probamos con más frases en el contexto para ver diferentes resultados \n",
    "\n",
    "context = \"Cuánto cuesta una camisa verde en talla L\"\n",
    "qa_model(question = [question1, question2, question3], context = context)"
   ]
  },
  {
   "cell_type": "code",
   "execution_count": 53,
   "metadata": {},
   "outputs": [
    {
     "data": {
      "text/plain": [
       "[{'score': 0.024617815390229225,\n",
       "  'start': 0,\n",
       "  'end': 34,\n",
       "  'answer': 'Necesito comprar una chaqueta gris'},\n",
       " {'score': 0.7953055500984192, 'start': 29, 'end': 34, 'answer': ' gris'},\n",
       " {'score': 0.7114896178245544,\n",
       "  'start': 20,\n",
       "  'end': 34,\n",
       "  'answer': ' chaqueta gris'}]"
      ]
     },
     "execution_count": 53,
     "metadata": {},
     "output_type": "execute_result"
    }
   ],
   "source": [
    "context = \"Necesito comprar una chaqueta gris\"\n",
    "qa_model(question = [question1, question2, question3], context = context)"
   ]
  },
  {
   "cell_type": "code",
   "execution_count": 54,
   "metadata": {},
   "outputs": [
    {
     "data": {
      "text/plain": [
       "[{'score': 0.8317456245422363, 'start': 38, 'end': 40, 'answer': ' M'},\n",
       " {'score': 0.7273532748222351, 'start': 24, 'end': 29, 'answer': ' azul'},\n",
       " {'score': 0.29027649760246277,\n",
       "  'start': 16,\n",
       "  'end': 40,\n",
       "  'answer': ' vestido azul en talla M'}]"
      ]
     },
     "execution_count": 54,
     "metadata": {},
     "output_type": "execute_result"
    }
   ],
   "source": [
    "context = \"Deseo comprar un vestido azul en talla M\"\n",
    "qa_model(question = [question1, question2, question3], context = context)"
   ]
  },
  {
   "cell_type": "code",
   "execution_count": 55,
   "metadata": {},
   "outputs": [
    {
     "data": {
      "text/plain": [
       "[{'score': 0.5894584059715271, 'start': 24, 'end': 28, 'answer': ' 45?'},\n",
       " {'score': 0.0003259396180510521, 'start': 24, 'end': 28, 'answer': ' 45?'},\n",
       " {'score': 9.537381265545264e-05, 'start': 4, 'end': 12, 'answer': ' zapatos'}]"
      ]
     },
     "execution_count": 55,
     "metadata": {},
     "output_type": "execute_result"
    }
   ],
   "source": [
    "context = \"¿Hay zapatos de la talla 45?\"\n",
    "qa_model(question = [question1, question2, question3], context = context)"
   ]
  },
  {
   "cell_type": "code",
   "execution_count": 56,
   "metadata": {},
   "outputs": [
    {
     "data": {
      "text/plain": [
       "[{'score': 0.5216799974441528, 'start': 39, 'end': 47, 'answer': ' grande.'},\n",
       " {'score': 0.15973155200481415, 'start': 21, 'end': 30, 'answer': ' camiseta'},\n",
       " {'score': 0.49465087056159973,\n",
       "  'start': 21,\n",
       "  'end': 47,\n",
       "  'answer': ' camiseta de talla grande.'}]"
      ]
     },
     "execution_count": 56,
     "metadata": {},
     "output_type": "execute_result"
    }
   ],
   "source": [
    "context = \"Estoy en busca de una camiseta de talla grande.\"\n",
    "qa_model(question = [question1, question2, question3], context = context)"
   ]
  }
 ],
 "metadata": {
  "kernelspec": {
   "display_name": "Python 3",
   "language": "python",
   "name": "python3"
  },
  "language_info": {
   "codemirror_mode": {
    "name": "ipython",
    "version": 3
   },
   "file_extension": ".py",
   "mimetype": "text/x-python",
   "name": "python",
   "nbconvert_exporter": "python",
   "pygments_lexer": "ipython3",
   "version": "3.11.5"
  }
 },
 "nbformat": 4,
 "nbformat_minor": 2
}
